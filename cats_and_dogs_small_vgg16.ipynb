{
 "cells": [
  {
   "cell_type": "markdown",
   "id": "e9b7f755",
   "metadata": {},
   "source": [
    "### Cats and Dogs em uma VGG16"
   ]
  },
  {
   "cell_type": "code",
   "execution_count": 1,
   "id": "3529c7a2",
   "metadata": {},
   "outputs": [
    {
     "data": {
      "text/plain": [
       "'C:\\\\Users\\\\vitor\\\\Desktop\\\\Iniciação Científica\\\\Notebooks\\\\cats_and_dogs_small\\\\train'"
      ]
     },
     "execution_count": 1,
     "metadata": {},
     "output_type": "execute_result"
    }
   ],
   "source": [
    "# Obtendo os diretorios com as imagens\n",
    "\n",
    "import os, shutil\n",
    "\n",
    "base_dir = os.getcwd()\n",
    "base_dir = os.path.join(base_dir, 'cats_and_dogs_small')\n",
    "\n",
    "train_dir = os.path.join(base_dir, 'train')\n",
    "#train_dir_cats = os.path.join(base_dir, 'train/cats')\n",
    "#train_dir_dogs = os.path.join(base_dir, 'train/dogs')\n",
    "\n",
    "validation_dir = os.path.join(base_dir, 'validation')\n",
    "#validation_dir_cats = os.path.join(base_dir, 'validation/cats')\n",
    "#validation_dir_dogs = os.path.join(base_dir, 'validation/dogs')\n",
    "\n",
    "test_dir = os.path.join(base_dir, 'test')\n",
    "#test_dir_cats = os.path.join(base_dir, 'test/cats')\n",
    "#test_dir_dogs = os.path.join(base_dir, 'test/dogs')\n",
    "\n",
    "train_dir"
   ]
  },
  {
   "cell_type": "code",
   "execution_count": 2,
   "id": "1b949454",
   "metadata": {},
   "outputs": [],
   "source": [
    "# Construindo a rede\n",
    "from keras import layers\n",
    "from keras import models\n",
    "\n",
    "model = models.Sequential()\n",
    "model.add(layers.Conv2D(64, (3,3), activation = 'relu', input_shape=(150, 150, 3), padding = \"same\"))\n",
    "model.add(layers.Conv2D(64, (3,3), activation = 'relu', padding = \"same\"))\n",
    "model.add(layers.MaxPooling2D((2,2)))\n",
    "model.add(layers.Conv2D(128, (3,3), activation = 'relu', padding = \"same\"))\n",
    "model.add(layers.Conv2D(128, (3,3), activation = 'relu', padding = \"same\"))\n",
    "model.add(layers.MaxPooling2D((2,2)))\n",
    "model.add(layers.Conv2D(256, (3,3), activation = 'relu', padding = \"same\"))\n",
    "model.add(layers.Conv2D(256, (3,3), activation = 'relu', padding = \"same\"))\n",
    "model.add(layers.Conv2D(256, (3,3), activation = 'relu', padding = \"same\"))\n",
    "model.add(layers.MaxPooling2D((2,2)))\n",
    "model.add(layers.Conv2D(512, (3,3), activation = 'relu', padding = \"same\"))\n",
    "model.add(layers.Conv2D(512, (3,3), activation = 'relu', padding = \"same\"))\n",
    "model.add(layers.Conv2D(512, (3,3), activation = 'relu', padding = \"same\"))\n",
    "model.add(layers.MaxPooling2D((2,2)))\n",
    "model.add(layers.Conv2D(512, (3,3), activation = 'relu', padding = \"same\"))\n",
    "model.add(layers.Conv2D(512, (3,3), activation = 'relu', padding = \"same\"))\n",
    "model.add(layers.Conv2D(512, (3,3), activation = 'relu', padding = \"same\"))\n",
    "model.add(layers.MaxPooling2D((2,2)))\n",
    "model.add(layers.Flatten())\n",
    "model.add(layers.Dropout(0.5))\n",
    "model.add(layers.Dense(4096, activation = 'relu'))\n",
    "model.add(layers.Dense(1024, activation = 'relu'))\n",
    "model.add(layers.Dense(1, activation = 'sigmoid'))"
   ]
  },
  {
   "cell_type": "code",
   "execution_count": 3,
   "id": "4f32b5f8",
   "metadata": {},
   "outputs": [
    {
     "name": "stdout",
     "output_type": "stream",
     "text": [
      "Model: \"sequential\"\n",
      "_________________________________________________________________\n",
      " Layer (type)                Output Shape              Param #   \n",
      "=================================================================\n",
      " conv2d (Conv2D)             (None, 150, 150, 64)      1792      \n",
      "                                                                 \n",
      " conv2d_1 (Conv2D)           (None, 150, 150, 64)      36928     \n",
      "                                                                 \n",
      " max_pooling2d (MaxPooling2D  (None, 75, 75, 64)       0         \n",
      " )                                                               \n",
      "                                                                 \n",
      " conv2d_2 (Conv2D)           (None, 75, 75, 128)       73856     \n",
      "                                                                 \n",
      " conv2d_3 (Conv2D)           (None, 75, 75, 128)       147584    \n",
      "                                                                 \n",
      " max_pooling2d_1 (MaxPooling  (None, 37, 37, 128)      0         \n",
      " 2D)                                                             \n",
      "                                                                 \n",
      " conv2d_4 (Conv2D)           (None, 37, 37, 256)       295168    \n",
      "                                                                 \n",
      " conv2d_5 (Conv2D)           (None, 37, 37, 256)       590080    \n",
      "                                                                 \n",
      " conv2d_6 (Conv2D)           (None, 37, 37, 256)       590080    \n",
      "                                                                 \n",
      " max_pooling2d_2 (MaxPooling  (None, 18, 18, 256)      0         \n",
      " 2D)                                                             \n",
      "                                                                 \n",
      " conv2d_7 (Conv2D)           (None, 18, 18, 512)       1180160   \n",
      "                                                                 \n",
      " conv2d_8 (Conv2D)           (None, 18, 18, 512)       2359808   \n",
      "                                                                 \n",
      " conv2d_9 (Conv2D)           (None, 18, 18, 512)       2359808   \n",
      "                                                                 \n",
      " max_pooling2d_3 (MaxPooling  (None, 9, 9, 512)        0         \n",
      " 2D)                                                             \n",
      "                                                                 \n",
      " conv2d_10 (Conv2D)          (None, 9, 9, 512)         2359808   \n",
      "                                                                 \n",
      " conv2d_11 (Conv2D)          (None, 9, 9, 512)         2359808   \n",
      "                                                                 \n",
      " conv2d_12 (Conv2D)          (None, 9, 9, 512)         2359808   \n",
      "                                                                 \n",
      " max_pooling2d_4 (MaxPooling  (None, 4, 4, 512)        0         \n",
      " 2D)                                                             \n",
      "                                                                 \n",
      " flatten (Flatten)           (None, 8192)              0         \n",
      "                                                                 \n",
      " dropout (Dropout)           (None, 8192)              0         \n",
      "                                                                 \n",
      " dense (Dense)               (None, 4096)              33558528  \n",
      "                                                                 \n",
      " dense_1 (Dense)             (None, 1024)              4195328   \n",
      "                                                                 \n",
      " dense_2 (Dense)             (None, 1)                 1025      \n",
      "                                                                 \n",
      "=================================================================\n",
      "Total params: 52,469,569\n",
      "Trainable params: 52,469,569\n",
      "Non-trainable params: 0\n",
      "_________________________________________________________________\n"
     ]
    }
   ],
   "source": [
    "model.summary()"
   ]
  },
  {
   "cell_type": "code",
   "execution_count": 4,
   "id": "949444e7",
   "metadata": {},
   "outputs": [],
   "source": [
    "# Compilando a rede\n",
    "from keras import optimizers\n",
    "\n",
    "model.compile(loss = 'binary_crossentropy',\n",
    "              optimizer = optimizers.RMSprop(learning_rate = 1e-4),\n",
    "              metrics=['acc'])"
   ]
  },
  {
   "cell_type": "code",
   "execution_count": null,
   "id": "c5a49271",
   "metadata": {},
   "outputs": [
    {
     "name": "stdout",
     "output_type": "stream",
     "text": [
      "Found 2000 images belonging to 2 classes.\n",
      "Found 1000 images belonging to 2 classes.\n",
      "Epoch 1/10\n",
      "62/62 [==============================] - ETA: 0s - loss: 0.6967 - acc: 0.4751 WARNING:tensorflow:Your input ran out of data; interrupting training. Make sure that your dataset or generator can generate at least `steps_per_epoch * epochs` batches (in this case, 50 batches). You may need to use the repeat() function when building your dataset.\n",
      "62/62 [==============================] - 726s 12s/step - loss: 0.6967 - acc: 0.4751 - val_loss: 0.6931 - val_acc: 0.5000\n",
      "Epoch 2/10\n",
      " 5/62 [=>............................] - ETA: 10:13 - loss: 0.6929 - acc: 0.5500"
     ]
    }
   ],
   "source": [
    "from keras.preprocessing.image import ImageDataGenerator\n",
    "\n",
    "train_datagen = ImageDataGenerator(\n",
    "    rescale = 1./255,\n",
    "    rotation_range = 40,\n",
    "    width_shift_range = 0.2,\n",
    "    height_shift_range = 0.2,\n",
    "    shear_range = 0.2,\n",
    "    zoom_range = 0.2,\n",
    "    horizontal_flip = True)\n",
    "\n",
    "test_datagen = ImageDataGenerator(rescale=1./255)\n",
    "\n",
    "train_generator = train_datagen.flow_from_directory(\n",
    "                                                    train_dir,\n",
    "                                                    target_size=(150,150),\n",
    "                                                    batch_size=32,\n",
    "                                                    class_mode='binary')\n",
    "validation_generator = test_datagen.flow_from_directory(\n",
    "                                                    validation_dir,\n",
    "                                                    target_size=(150,150),\n",
    "                                                    batch_size=32,\n",
    "                                                    class_mode='binary')\n",
    "\n",
    "\n",
    "history = model.fit(\n",
    "    train_generator,\n",
    "    steps_per_epoch = 62,\n",
    "    epochs = 10, \n",
    "    validation_data = validation_generator,\n",
    "    validation_steps = 50)"
   ]
  },
  {
   "cell_type": "code",
   "execution_count": null,
   "id": "cce26a05",
   "metadata": {},
   "outputs": [],
   "source": [
    "model.save('cats_and_dogs_small_vgg16.h5')"
   ]
  },
  {
   "cell_type": "code",
   "execution_count": null,
   "id": "850b35d5",
   "metadata": {},
   "outputs": [],
   "source": [
    "test_generator = test_datagen.flow_from_directory(\n",
    "    test_dir,\n",
    "    target_size = (150,150),\n",
    "    batch_size = 1000,\n",
    "    class_mode = 'binary'\n",
    "    )\n",
    "\n",
    "model.evaluate(test_ganerator, steps = 1)"
   ]
  }
 ],
 "metadata": {
  "kernelspec": {
   "display_name": "Python 3 (ipykernel)",
   "language": "python",
   "name": "python3"
  },
  "language_info": {
   "codemirror_mode": {
    "name": "ipython",
    "version": 3
   },
   "file_extension": ".py",
   "mimetype": "text/x-python",
   "name": "python",
   "nbconvert_exporter": "python",
   "pygments_lexer": "ipython3",
   "version": "3.10.8"
  }
 },
 "nbformat": 4,
 "nbformat_minor": 5
}
